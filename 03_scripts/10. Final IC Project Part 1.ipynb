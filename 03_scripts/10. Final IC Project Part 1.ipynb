{
 "cells": [
  {
   "cell_type": "markdown",
   "id": "a4dd0cee",
   "metadata": {},
   "source": [
    "## Table of Contents\n",
    "* [1. Importing Libraries](#1.-Importing-Libraries)\n",
    "* [2. Importing Data](#2.-Importing-Data)\n",
    "* [3. Task](#3.-Task)\n",
    "    * [Step 2 - Security Implications](#Step-2---Security-Implications)\n",
    "    * [Step 3 - Regional Segmentation](#Step-3---Regional-Segmentation)\n",
    "    * [Step 4 - Excluding Low-Activity Customers](#Step-4---Excluding-Low-Activity-Customers)\n",
    "    * [Step 5 - Customer Profile](#Step-5---Customer-Profile)\n",
    "        * [Age Profile](#Age-Profile)\n",
    "        * [Income Profile](#Income-Profile)\n",
    "        * [Number of Dependants Porfile](#Number-of-Dependants-Profile)\n",
    "        * [Goods](#Goods)\n",
    "    * [Step 5 Cont - Customer Profile Visualizations](#Step-5-Cont---Customer-Profile-Visualizations)\n",
    "    * [Step 7 - Aggregations](#Step-7---Aggregations)\n",
    "* [4. Exporting Data](#4.-Exporting-Dataframe)"
   ]
  },
  {
   "cell_type": "markdown",
   "id": "40ab3c87",
   "metadata": {},
   "source": [
    "## 1. Importing Libraries"
   ]
  },
  {
   "cell_type": "code",
   "execution_count": 9,
   "id": "999bfee3",
   "metadata": {},
   "outputs": [],
   "source": [
    "import pandas as pd\n",
    "import os\n",
    "import matplotlib.pyplot as plt"
   ]
  },
  {
   "cell_type": "markdown",
   "id": "743b7213",
   "metadata": {},
   "source": [
    "## 2. Importing Data"
   ]
  },
  {
   "cell_type": "code",
   "execution_count": 10,
   "id": "ee0bc7d9",
   "metadata": {},
   "outputs": [],
   "source": [
    "# Creating a reusable path to my data\n",
    "\n",
    "path = r'C:\\Users\\vaiva\\OneDrive\\Documents\\CareerFoundry\\Achievement 4 07-2023 Instacart Basket Analysis'"
   ]
  },
  {
   "cell_type": "code",
   "execution_count": 11,
   "id": "01f2c289",
   "metadata": {},
   "outputs": [],
   "source": [
    "# Importing orders_products_all\n",
    "\n",
    "df = pd.read_pickle(os.path.join(path, '02 Data', 'Prepared Data', 'orders_products_all.pkl'))"
   ]
  },
  {
   "cell_type": "code",
   "execution_count": 12,
   "id": "fff62b0d",
   "metadata": {},
   "outputs": [
    {
     "data": {
      "text/html": [
       "<div>\n",
       "<style scoped>\n",
       "    .dataframe tbody tr th:only-of-type {\n",
       "        vertical-align: middle;\n",
       "    }\n",
       "\n",
       "    .dataframe tbody tr th {\n",
       "        vertical-align: top;\n",
       "    }\n",
       "\n",
       "    .dataframe thead th {\n",
       "        text-align: right;\n",
       "    }\n",
       "</style>\n",
       "<table border=\"1\" class=\"dataframe\">\n",
       "  <thead>\n",
       "    <tr style=\"text-align: right;\">\n",
       "      <th></th>\n",
       "      <th>product_id</th>\n",
       "      <th>product_name</th>\n",
       "      <th>aisle_id</th>\n",
       "      <th>department_id</th>\n",
       "      <th>prices</th>\n",
       "      <th>user_id</th>\n",
       "      <th>order_id</th>\n",
       "      <th>order_number</th>\n",
       "      <th>order_day_of_week</th>\n",
       "      <th>order_hour_of_day</th>\n",
       "      <th>...</th>\n",
       "      <th>name</th>\n",
       "      <th>surname</th>\n",
       "      <th>gender</th>\n",
       "      <th>state</th>\n",
       "      <th>age</th>\n",
       "      <th>date_joined</th>\n",
       "      <th>n_dependants</th>\n",
       "      <th>fam_status</th>\n",
       "      <th>income</th>\n",
       "      <th>_merge</th>\n",
       "    </tr>\n",
       "  </thead>\n",
       "  <tbody>\n",
       "    <tr>\n",
       "      <th>0</th>\n",
       "      <td>1</td>\n",
       "      <td>Chocolate Sandwich Cookies</td>\n",
       "      <td>61</td>\n",
       "      <td>19</td>\n",
       "      <td>5.800781</td>\n",
       "      <td>138</td>\n",
       "      <td>3139998</td>\n",
       "      <td>28</td>\n",
       "      <td>6</td>\n",
       "      <td>11</td>\n",
       "      <td>...</td>\n",
       "      <td>Charles</td>\n",
       "      <td>Cox</td>\n",
       "      <td>Male</td>\n",
       "      <td>Minnesota</td>\n",
       "      <td>81</td>\n",
       "      <td>8/1/2019</td>\n",
       "      <td>1</td>\n",
       "      <td>married</td>\n",
       "      <td>49620</td>\n",
       "      <td>both</td>\n",
       "    </tr>\n",
       "    <tr>\n",
       "      <th>1</th>\n",
       "      <td>1</td>\n",
       "      <td>Chocolate Sandwich Cookies</td>\n",
       "      <td>61</td>\n",
       "      <td>19</td>\n",
       "      <td>5.800781</td>\n",
       "      <td>138</td>\n",
       "      <td>1977647</td>\n",
       "      <td>30</td>\n",
       "      <td>6</td>\n",
       "      <td>17</td>\n",
       "      <td>...</td>\n",
       "      <td>Charles</td>\n",
       "      <td>Cox</td>\n",
       "      <td>Male</td>\n",
       "      <td>Minnesota</td>\n",
       "      <td>81</td>\n",
       "      <td>8/1/2019</td>\n",
       "      <td>1</td>\n",
       "      <td>married</td>\n",
       "      <td>49620</td>\n",
       "      <td>both</td>\n",
       "    </tr>\n",
       "    <tr>\n",
       "      <th>2</th>\n",
       "      <td>907</td>\n",
       "      <td>Premium Sliced Bacon</td>\n",
       "      <td>106</td>\n",
       "      <td>12</td>\n",
       "      <td>20.000000</td>\n",
       "      <td>138</td>\n",
       "      <td>3160996</td>\n",
       "      <td>1</td>\n",
       "      <td>5</td>\n",
       "      <td>13</td>\n",
       "      <td>...</td>\n",
       "      <td>Charles</td>\n",
       "      <td>Cox</td>\n",
       "      <td>Male</td>\n",
       "      <td>Minnesota</td>\n",
       "      <td>81</td>\n",
       "      <td>8/1/2019</td>\n",
       "      <td>1</td>\n",
       "      <td>married</td>\n",
       "      <td>49620</td>\n",
       "      <td>both</td>\n",
       "    </tr>\n",
       "    <tr>\n",
       "      <th>3</th>\n",
       "      <td>907</td>\n",
       "      <td>Premium Sliced Bacon</td>\n",
       "      <td>106</td>\n",
       "      <td>12</td>\n",
       "      <td>20.000000</td>\n",
       "      <td>138</td>\n",
       "      <td>2254091</td>\n",
       "      <td>10</td>\n",
       "      <td>5</td>\n",
       "      <td>14</td>\n",
       "      <td>...</td>\n",
       "      <td>Charles</td>\n",
       "      <td>Cox</td>\n",
       "      <td>Male</td>\n",
       "      <td>Minnesota</td>\n",
       "      <td>81</td>\n",
       "      <td>8/1/2019</td>\n",
       "      <td>1</td>\n",
       "      <td>married</td>\n",
       "      <td>49620</td>\n",
       "      <td>both</td>\n",
       "    </tr>\n",
       "    <tr>\n",
       "      <th>4</th>\n",
       "      <td>1000</td>\n",
       "      <td>Apricots</td>\n",
       "      <td>18</td>\n",
       "      <td>10</td>\n",
       "      <td>12.898438</td>\n",
       "      <td>138</td>\n",
       "      <td>505689</td>\n",
       "      <td>9</td>\n",
       "      <td>6</td>\n",
       "      <td>12</td>\n",
       "      <td>...</td>\n",
       "      <td>Charles</td>\n",
       "      <td>Cox</td>\n",
       "      <td>Male</td>\n",
       "      <td>Minnesota</td>\n",
       "      <td>81</td>\n",
       "      <td>8/1/2019</td>\n",
       "      <td>1</td>\n",
       "      <td>married</td>\n",
       "      <td>49620</td>\n",
       "      <td>both</td>\n",
       "    </tr>\n",
       "  </tbody>\n",
       "</table>\n",
       "<p>5 rows × 34 columns</p>\n",
       "</div>"
      ],
      "text/plain": [
       "   product_id                product_name  aisle_id  department_id     prices  \\\n",
       "0           1  Chocolate Sandwich Cookies        61             19   5.800781   \n",
       "1           1  Chocolate Sandwich Cookies        61             19   5.800781   \n",
       "2         907        Premium Sliced Bacon       106             12  20.000000   \n",
       "3         907        Premium Sliced Bacon       106             12  20.000000   \n",
       "4        1000                    Apricots        18             10  12.898438   \n",
       "\n",
       "   user_id  order_id  order_number  order_day_of_week  order_hour_of_day  ...  \\\n",
       "0      138   3139998            28                  6                 11  ...   \n",
       "1      138   1977647            30                  6                 17  ...   \n",
       "2      138   3160996             1                  5                 13  ...   \n",
       "3      138   2254091            10                  5                 14  ...   \n",
       "4      138    505689             9                  6                 12  ...   \n",
       "\n",
       "      name  surname  gender      state age date_joined n_dependants  \\\n",
       "0  Charles      Cox    Male  Minnesota  81    8/1/2019            1   \n",
       "1  Charles      Cox    Male  Minnesota  81    8/1/2019            1   \n",
       "2  Charles      Cox    Male  Minnesota  81    8/1/2019            1   \n",
       "3  Charles      Cox    Male  Minnesota  81    8/1/2019            1   \n",
       "4  Charles      Cox    Male  Minnesota  81    8/1/2019            1   \n",
       "\n",
       "  fam_status  income _merge  \n",
       "0    married   49620   both  \n",
       "1    married   49620   both  \n",
       "2    married   49620   both  \n",
       "3    married   49620   both  \n",
       "4    married   49620   both  \n",
       "\n",
       "[5 rows x 34 columns]"
      ]
     },
     "execution_count": 12,
     "metadata": {},
     "output_type": "execute_result"
    }
   ],
   "source": [
    "df.head()"
   ]
  },
  {
   "cell_type": "code",
   "execution_count": 13,
   "id": "6c2067d4",
   "metadata": {},
   "outputs": [
    {
     "data": {
      "text/plain": [
       "(32404859, 34)"
      ]
     },
     "execution_count": 13,
     "metadata": {},
     "output_type": "execute_result"
    }
   ],
   "source": [
    "df.shape"
   ]
  },
  {
   "cell_type": "markdown",
   "id": "355d8189",
   "metadata": {},
   "source": [
    "## 3. Task"
   ]
  },
  {
   "cell_type": "markdown",
   "id": "3bcbf08b",
   "metadata": {},
   "source": [
    "### Step 2 - Security Implications"
   ]
  },
  {
   "cell_type": "code",
   "execution_count": 14,
   "id": "119cb075",
   "metadata": {},
   "outputs": [],
   "source": [
    "# Due to security reasons, dropping name and surname columns\n",
    "\n",
    "df = df.drop(columns = ['name', 'surname'])"
   ]
  },
  {
   "cell_type": "code",
   "execution_count": 15,
   "id": "8b57cca1",
   "metadata": {},
   "outputs": [
    {
     "data": {
      "text/plain": [
       "Index(['product_id', 'product_name', 'aisle_id', 'department_id', 'prices',\n",
       "       'user_id', 'order_id', 'order_number', 'order_day_of_week',\n",
       "       'order_hour_of_day', 'days_since_prior_order', 'add_to_cart_order',\n",
       "       'reordered', 'ind', 'price_range_loc', 'busiest_day', 'busiest_days',\n",
       "       'busiest_period_of_day', 'max_order', 'loyalty_flag', 'average_spend',\n",
       "       'spending_flag', 'days_since_prior_order_median', 'frequency_flag',\n",
       "       'gender', 'state', 'age', 'date_joined', 'n_dependants', 'fam_status',\n",
       "       'income', '_merge'],\n",
       "      dtype='object')"
      ]
     },
     "execution_count": 15,
     "metadata": {},
     "output_type": "execute_result"
    }
   ],
   "source": [
    "df.columns"
   ]
  },
  {
   "cell_type": "markdown",
   "id": "ab827a13",
   "metadata": {},
   "source": [
    "### Step 3 - Regional Segmentation\n",
    "1. Create a regional segmentation of the data.\n",
    "2. Determine whether there’s a difference in spending habits between the different U.S. regions. (Hint: You can do this by crossing the variable you just created with the spending flag.)"
   ]
  },
  {
   "cell_type": "code",
   "execution_count": 16,
   "id": "96858a23",
   "metadata": {},
   "outputs": [],
   "source": [
    "# Creating a region flag variable\n",
    "\n",
    "df.loc[df['state'].isin(['Maine', 'New Hampshire', 'Vermont', 'Massachusetts', 'Rhode Island', 'Connecticut', 'New York', 'Pennsylvania', 'New Jersey']), 'region'] = 'Northeast'\n",
    "df.loc[df['state'].isin(['Wisconsin', 'Michigan', 'Illinois', 'Indiana', 'Ohio', 'North Dakota', 'South Dakota', 'Nebraska', 'Kansas', 'Minnesota', 'Iowa', 'Missouri']), 'region'] = 'Midwest'\n",
    "df.loc[df['state'].isin(['Delaware', 'Maryland', 'District of Columbia', 'Virginia', 'West Virginia', 'North Carolina', 'South Carolina', 'Georgia', 'Florida', 'Kentucky', 'Tennessee', 'Mississippi', 'Alabama', 'Oklahoma', 'Texas', 'Arkansas', 'Louisiana']), 'region'] = 'South'\n",
    "df.loc[df['state'].isin(['Idaho', 'Montana', 'Wyoming', 'Nevada', 'Utah', 'Colorado', 'Arizona', 'New Mexico', 'Alaska', 'Washington', 'Oregon', 'California', 'Hawaii']), 'region'] = 'West'"
   ]
  },
  {
   "cell_type": "code",
   "execution_count": 17,
   "id": "5daaeaa7",
   "metadata": {},
   "outputs": [
    {
     "data": {
      "text/plain": [
       "South        10791885\n",
       "West          8292913\n",
       "Midwest       7597325\n",
       "Northeast     5722736\n",
       "Name: region, dtype: int64"
      ]
     },
     "execution_count": 17,
     "metadata": {},
     "output_type": "execute_result"
    }
   ],
   "source": [
    "df['region'].value_counts()"
   ]
  },
  {
   "cell_type": "code",
   "execution_count": 18,
   "id": "96e054a1",
   "metadata": {},
   "outputs": [],
   "source": [
    "# Creating a crosstab between the regions and the spending flag\n",
    "\n",
    "crosstab = pd.crosstab(df['region'], df['spending_flag'], dropna = False, normalize = 'index')"
   ]
  },
  {
   "cell_type": "code",
   "execution_count": 19,
   "id": "8016e40d",
   "metadata": {},
   "outputs": [
    {
     "data": {
      "text/html": [
       "<div>\n",
       "<style scoped>\n",
       "    .dataframe tbody tr th:only-of-type {\n",
       "        vertical-align: middle;\n",
       "    }\n",
       "\n",
       "    .dataframe tbody tr th {\n",
       "        vertical-align: top;\n",
       "    }\n",
       "\n",
       "    .dataframe thead th {\n",
       "        text-align: right;\n",
       "    }\n",
       "</style>\n",
       "<table border=\"1\" class=\"dataframe\">\n",
       "  <thead>\n",
       "    <tr style=\"text-align: right;\">\n",
       "      <th>spending_flag</th>\n",
       "      <th>High Spender</th>\n",
       "      <th>Low Spender</th>\n",
       "    </tr>\n",
       "    <tr>\n",
       "      <th>region</th>\n",
       "      <th></th>\n",
       "      <th></th>\n",
       "    </tr>\n",
       "  </thead>\n",
       "  <tbody>\n",
       "    <tr>\n",
       "      <th>Midwest</th>\n",
       "      <td>0.003852</td>\n",
       "      <td>0.996148</td>\n",
       "    </tr>\n",
       "    <tr>\n",
       "      <th>Northeast</th>\n",
       "      <td>0.003258</td>\n",
       "      <td>0.996742</td>\n",
       "    </tr>\n",
       "    <tr>\n",
       "      <th>South</th>\n",
       "      <td>0.003759</td>\n",
       "      <td>0.996241</td>\n",
       "    </tr>\n",
       "    <tr>\n",
       "      <th>West</th>\n",
       "      <td>0.003765</td>\n",
       "      <td>0.996235</td>\n",
       "    </tr>\n",
       "  </tbody>\n",
       "</table>\n",
       "</div>"
      ],
      "text/plain": [
       "spending_flag  High Spender  Low Spender\n",
       "region                                  \n",
       "Midwest            0.003852     0.996148\n",
       "Northeast          0.003258     0.996742\n",
       "South              0.003759     0.996241\n",
       "West               0.003765     0.996235"
      ]
     },
     "execution_count": 19,
     "metadata": {},
     "output_type": "execute_result"
    }
   ],
   "source": [
    "crosstab"
   ]
  },
  {
   "cell_type": "code",
   "execution_count": 20,
   "id": "2b70f48f",
   "metadata": {},
   "outputs": [],
   "source": [
    "#Creating a color set for vizualizations\n",
    "\n",
    "colors = ['#6C97B9', '#BF9CAE', '#F2D997', '#8EB897', '#B7C3F3', '#4F6272']"
   ]
  },
  {
   "cell_type": "code",
   "execution_count": 21,
   "id": "b6d6c43b",
   "metadata": {},
   "outputs": [],
   "source": [
    "# Copying crosstab to paste it to Excel\n",
    "\n",
    "crosstab.to_clipboard()"
   ]
  },
  {
   "cell_type": "code",
   "execution_count": 55,
   "id": "37f16d2f",
   "metadata": {},
   "outputs": [
    {
     "data": {
      "image/png": "[encoded data removed]",
      "text/plain": [
       "<Figure size 700x600 with 1 Axes>"
      ]
     },
     "metadata": {},
     "output_type": "display_data"
    }
   ],
   "source": [
    "# Plotting the crosstabed regions and spending flag\n",
    "\n",
    "bar_regions_spend_flag = crosstab.plot(kind='bar', stacked = True, title='Regional Spend', color = colors, figsize=(7, 6))\n",
    "plt.xlabel('Regions')\n",
    "plt.ylabel('Proportion')\n",
    "plt.xticks(rotation=0)  # Keep the x-axis labels horizontal\n",
    "\n",
    "plt.legend(title='Spending Flag', bbox_to_anchor=(1.04, 1)) # Move the legend inside the plot to the lower right corner\n",
    "\n",
    "# Remove the right and top lines of the chart\n",
    "plt.gca().spines['right'].set_visible(False)\n",
    "plt.gca().spines['top'].set_visible(False)\n",
    "\n",
    "plt.tight_layout()  # Ensures all elements fit within the figure area\n",
    "\n",
    "plt.show()"
   ]
  },
  {
   "cell_type": "markdown",
   "id": "4b8ed4b2",
   "metadata": {},
   "source": [
    "### Comment\n",
    "\n",
    "The chart above indicates that after normalizing the figures, there is no significant difference between regions in terms of the spending flag."
   ]
  },
  {
   "cell_type": "code",
   "execution_count": 56,
   "id": "40ec652b",
   "metadata": {},
   "outputs": [],
   "source": [
    "# Export the bar chart \n",
    "\n",
    "bar_regions_spend_flag.figure.savefig(os.path.join(path, '04 Analysis', 'Visualizations', 'bar_region_spending_flag.png'))"
   ]
  },
  {
   "cell_type": "markdown",
   "id": "5af8bf7d",
   "metadata": {},
   "source": [
    "### Step 4 - Excluding Low-Activity Customers\n",
    "\n",
    "Create an exclusion flag for low-activity customers (customers with less than 5 orders) and exclude them from the data. Make sure you export this sample."
   ]
  },
  {
   "cell_type": "code",
   "execution_count": 24,
   "id": "ab7d048c",
   "metadata": {},
   "outputs": [],
   "source": [
    "# Creating an exclusion flag with loc function\n",
    "\n",
    "df.loc[df['order_number'] < 5, 'exclusion_flag'] = 'Yes'\n",
    "df.loc[df['order_number'] >= 5, 'exclusion_flag'] = 'No'"
   ]
  },
  {
   "cell_type": "code",
   "execution_count": 25,
   "id": "2a52b0c3",
   "metadata": {},
   "outputs": [
    {
     "data": {
      "text/plain": [
       "No     24414877\n",
       "Yes     7989982\n",
       "Name: exclusion_flag, dtype: int64"
      ]
     },
     "execution_count": 25,
     "metadata": {},
     "output_type": "execute_result"
    }
   ],
   "source": [
    "# Checking counts\n",
    "\n",
    "df['exclusion_flag'].value_counts(dropna = False)"
   ]
  },
  {
   "cell_type": "code",
   "execution_count": 26,
   "id": "c3332420",
   "metadata": {},
   "outputs": [],
   "source": [
    "# Creating a df from the high activity customers\n",
    "\n",
    "high_activity_customers = df[df['exclusion_flag'] == 'No']"
   ]
  },
  {
   "cell_type": "code",
   "execution_count": 27,
   "id": "3de43155",
   "metadata": {},
   "outputs": [
    {
     "data": {
      "text/html": [
       "<div>\n",
       "<style scoped>\n",
       "    .dataframe tbody tr th:only-of-type {\n",
       "        vertical-align: middle;\n",
       "    }\n",
       "\n",
       "    .dataframe tbody tr th {\n",
       "        vertical-align: top;\n",
       "    }\n",
       "\n",
       "    .dataframe thead th {\n",
       "        text-align: right;\n",
       "    }\n",
       "</style>\n",
       "<table border=\"1\" class=\"dataframe\">\n",
       "  <thead>\n",
       "    <tr style=\"text-align: right;\">\n",
       "      <th></th>\n",
       "      <th>product_id</th>\n",
       "      <th>product_name</th>\n",
       "      <th>aisle_id</th>\n",
       "      <th>department_id</th>\n",
       "      <th>prices</th>\n",
       "      <th>user_id</th>\n",
       "      <th>order_id</th>\n",
       "      <th>order_number</th>\n",
       "      <th>order_day_of_week</th>\n",
       "      <th>order_hour_of_day</th>\n",
       "      <th>...</th>\n",
       "      <th>gender</th>\n",
       "      <th>state</th>\n",
       "      <th>age</th>\n",
       "      <th>date_joined</th>\n",
       "      <th>n_dependants</th>\n",
       "      <th>fam_status</th>\n",
       "      <th>income</th>\n",
       "      <th>_merge</th>\n",
       "      <th>region</th>\n",
       "      <th>exclusion_flag</th>\n",
       "    </tr>\n",
       "  </thead>\n",
       "  <tbody>\n",
       "    <tr>\n",
       "      <th>0</th>\n",
       "      <td>1</td>\n",
       "      <td>Chocolate Sandwich Cookies</td>\n",
       "      <td>61</td>\n",
       "      <td>19</td>\n",
       "      <td>5.800781</td>\n",
       "      <td>138</td>\n",
       "      <td>3139998</td>\n",
       "      <td>28</td>\n",
       "      <td>6</td>\n",
       "      <td>11</td>\n",
       "      <td>...</td>\n",
       "      <td>Male</td>\n",
       "      <td>Minnesota</td>\n",
       "      <td>81</td>\n",
       "      <td>8/1/2019</td>\n",
       "      <td>1</td>\n",
       "      <td>married</td>\n",
       "      <td>49620</td>\n",
       "      <td>both</td>\n",
       "      <td>Midwest</td>\n",
       "      <td>No</td>\n",
       "    </tr>\n",
       "    <tr>\n",
       "      <th>1</th>\n",
       "      <td>1</td>\n",
       "      <td>Chocolate Sandwich Cookies</td>\n",
       "      <td>61</td>\n",
       "      <td>19</td>\n",
       "      <td>5.800781</td>\n",
       "      <td>138</td>\n",
       "      <td>1977647</td>\n",
       "      <td>30</td>\n",
       "      <td>6</td>\n",
       "      <td>17</td>\n",
       "      <td>...</td>\n",
       "      <td>Male</td>\n",
       "      <td>Minnesota</td>\n",
       "      <td>81</td>\n",
       "      <td>8/1/2019</td>\n",
       "      <td>1</td>\n",
       "      <td>married</td>\n",
       "      <td>49620</td>\n",
       "      <td>both</td>\n",
       "      <td>Midwest</td>\n",
       "      <td>No</td>\n",
       "    </tr>\n",
       "    <tr>\n",
       "      <th>3</th>\n",
       "      <td>907</td>\n",
       "      <td>Premium Sliced Bacon</td>\n",
       "      <td>106</td>\n",
       "      <td>12</td>\n",
       "      <td>20.000000</td>\n",
       "      <td>138</td>\n",
       "      <td>2254091</td>\n",
       "      <td>10</td>\n",
       "      <td>5</td>\n",
       "      <td>14</td>\n",
       "      <td>...</td>\n",
       "      <td>Male</td>\n",
       "      <td>Minnesota</td>\n",
       "      <td>81</td>\n",
       "      <td>8/1/2019</td>\n",
       "      <td>1</td>\n",
       "      <td>married</td>\n",
       "      <td>49620</td>\n",
       "      <td>both</td>\n",
       "      <td>Midwest</td>\n",
       "      <td>No</td>\n",
       "    </tr>\n",
       "    <tr>\n",
       "      <th>4</th>\n",
       "      <td>1000</td>\n",
       "      <td>Apricots</td>\n",
       "      <td>18</td>\n",
       "      <td>10</td>\n",
       "      <td>12.898438</td>\n",
       "      <td>138</td>\n",
       "      <td>505689</td>\n",
       "      <td>9</td>\n",
       "      <td>6</td>\n",
       "      <td>12</td>\n",
       "      <td>...</td>\n",
       "      <td>Male</td>\n",
       "      <td>Minnesota</td>\n",
       "      <td>81</td>\n",
       "      <td>8/1/2019</td>\n",
       "      <td>1</td>\n",
       "      <td>married</td>\n",
       "      <td>49620</td>\n",
       "      <td>both</td>\n",
       "      <td>Midwest</td>\n",
       "      <td>No</td>\n",
       "    </tr>\n",
       "    <tr>\n",
       "      <th>5</th>\n",
       "      <td>3265</td>\n",
       "      <td>Mini Seedless Watermelon Pack</td>\n",
       "      <td>32</td>\n",
       "      <td>4</td>\n",
       "      <td>1.700195</td>\n",
       "      <td>138</td>\n",
       "      <td>960220</td>\n",
       "      <td>17</td>\n",
       "      <td>5</td>\n",
       "      <td>14</td>\n",
       "      <td>...</td>\n",
       "      <td>Male</td>\n",
       "      <td>Minnesota</td>\n",
       "      <td>81</td>\n",
       "      <td>8/1/2019</td>\n",
       "      <td>1</td>\n",
       "      <td>married</td>\n",
       "      <td>49620</td>\n",
       "      <td>both</td>\n",
       "      <td>Midwest</td>\n",
       "      <td>No</td>\n",
       "    </tr>\n",
       "  </tbody>\n",
       "</table>\n",
       "<p>5 rows × 34 columns</p>\n",
       "</div>"
      ],
      "text/plain": [
       "   product_id                   product_name  aisle_id  department_id  \\\n",
       "0           1     Chocolate Sandwich Cookies        61             19   \n",
       "1           1     Chocolate Sandwich Cookies        61             19   \n",
       "3         907           Premium Sliced Bacon       106             12   \n",
       "4        1000                       Apricots        18             10   \n",
       "5        3265  Mini Seedless Watermelon Pack        32              4   \n",
       "\n",
       "      prices  user_id  order_id  order_number  order_day_of_week  \\\n",
       "0   5.800781      138   3139998            28                  6   \n",
       "1   5.800781      138   1977647            30                  6   \n",
       "3  20.000000      138   2254091            10                  5   \n",
       "4  12.898438      138    505689             9                  6   \n",
       "5   1.700195      138    960220            17                  5   \n",
       "\n",
       "   order_hour_of_day  ...  gender      state  age date_joined n_dependants  \\\n",
       "0                 11  ...    Male  Minnesota   81    8/1/2019            1   \n",
       "1                 17  ...    Male  Minnesota   81    8/1/2019            1   \n",
       "3                 14  ...    Male  Minnesota   81    8/1/2019            1   \n",
       "4                 12  ...    Male  Minnesota   81    8/1/2019            1   \n",
       "5                 14  ...    Male  Minnesota   81    8/1/2019            1   \n",
       "\n",
       "  fam_status income _merge   region exclusion_flag  \n",
       "0    married  49620   both  Midwest             No  \n",
       "1    married  49620   both  Midwest             No  \n",
       "3    married  49620   both  Midwest             No  \n",
       "4    married  49620   both  Midwest             No  \n",
       "5    married  49620   both  Midwest             No  \n",
       "\n",
       "[5 rows x 34 columns]"
      ]
     },
     "execution_count": 27,
     "metadata": {},
     "output_type": "execute_result"
    }
   ],
   "source": [
    "high_activity_customers.head()"
   ]
  },
  {
   "cell_type": "markdown",
   "id": "beeca8dc",
   "metadata": {},
   "source": [
    "### Step 5 - Customer Profile\n",
    "\n",
    "Create a profiling variable based on age, income, certain goods in the “department_id” column, and number of dependents. You might also use the “orders_day_of_the_week” and “order_hour_of_day” columns if you can think of a way they would impact customer profiles. (Hint: As an example, try thinking of what characteristics would lead you to the profile “Single adult” or “Young parent.”)"
   ]
  },
  {
   "cell_type": "markdown",
   "id": "1cf65de9",
   "metadata": {},
   "source": [
    "### Age Profile"
   ]
  },
  {
   "cell_type": "code",
   "execution_count": 28,
   "id": "2847d7ad",
   "metadata": {},
   "outputs": [
    {
     "name": "stderr",
     "output_type": "stream",
     "text": [
      "C:\\Users\\vaiva\\AppData\\Local\\Temp\\ipykernel_5768\\2307726717.py:3: SettingWithCopyWarning: \n",
      "A value is trying to be set on a copy of a slice from a DataFrame.\n",
      "Try using .loc[row_indexer,col_indexer] = value instead\n",
      "\n",
      "See the caveats in the documentation: https://pandas.pydata.org/pandas-docs/stable/user_guide/indexing.html#returning-a-view-versus-a-copy\n",
      "  high_activity_customers.loc[high_activity_customers['age'] <35, 'age_profile'] = 'Young Adult'\n"
     ]
    }
   ],
   "source": [
    "# Creating a colum 'age_profile'\n",
    "\n",
    "high_activity_customers.loc[high_activity_customers['age'] <35, 'age_profile'] = 'Young Adult'\n",
    "high_activity_customers.loc[(high_activity_customers['age'] >= 35) & (high_activity_customers['age'] <65), 'age_profile'] = 'Middle Aged'\n",
    "high_activity_customers.loc[high_activity_customers['age'] >= 65, 'age_profile'] = 'Senior'    "
   ]
  },
  {
   "cell_type": "code",
   "execution_count": 29,
   "id": "cb70ef03",
   "metadata": {},
   "outputs": [
    {
     "data": {
      "text/plain": [
       "Middle Aged    11455986\n",
       "Young Adult     6500441\n",
       "Senior          6458450\n",
       "Name: age_profile, dtype: int64"
      ]
     },
     "execution_count": 29,
     "metadata": {},
     "output_type": "execute_result"
    }
   ],
   "source": [
    "high_activity_customers['age_profile'].value_counts()"
   ]
  },
  {
   "cell_type": "markdown",
   "id": "4f2d91f7",
   "metadata": {},
   "source": [
    "### Income Profile"
   ]
  },
  {
   "cell_type": "code",
   "execution_count": 30,
   "id": "2ec24215",
   "metadata": {},
   "outputs": [
    {
     "data": {
      "text/plain": [
       "count    24414877\n",
       "mean        99895\n",
       "std         43333\n",
       "min         25903\n",
       "25%         67524\n",
       "50%         96836\n",
       "75%        128160\n",
       "max        593901\n",
       "Name: income, dtype: int32"
      ]
     },
     "execution_count": 30,
     "metadata": {},
     "output_type": "execute_result"
    }
   ],
   "source": [
    "# Checking simple descriptive statistics for the variable\n",
    "\n",
    "high_activity_customers['income'].describe().astype(int)"
   ]
  },
  {
   "cell_type": "code",
   "execution_count": 31,
   "id": "92083284",
   "metadata": {},
   "outputs": [
    {
     "name": "stderr",
     "output_type": "stream",
     "text": [
      "C:\\Users\\vaiva\\AppData\\Local\\Temp\\ipykernel_5768\\1265419131.py:3: SettingWithCopyWarning: \n",
      "A value is trying to be set on a copy of a slice from a DataFrame.\n",
      "Try using .loc[row_indexer,col_indexer] = value instead\n",
      "\n",
      "See the caveats in the documentation: https://pandas.pydata.org/pandas-docs/stable/user_guide/indexing.html#returning-a-view-versus-a-copy\n",
      "  high_activity_customers.loc[high_activity_customers['income'] <60000, 'income_profile'] = 'Low'\n"
     ]
    }
   ],
   "source": [
    "# Creating a column 'income_profile'\n",
    "\n",
    "high_activity_customers.loc[high_activity_customers['income'] <60000, 'income_profile'] = 'Low'\n",
    "high_activity_customers.loc[(high_activity_customers['income'] >= 60000) & (high_activity_customers['income'] <120000), 'income_profile'] = 'Average'\n",
    "high_activity_customers.loc[high_activity_customers['income'] >= 120000, 'income_profile'] = 'High'    "
   ]
  },
  {
   "cell_type": "code",
   "execution_count": 32,
   "id": "7feb665b",
   "metadata": {},
   "outputs": [
    {
     "data": {
      "text/plain": [
       "Average    12648553\n",
       "High        7251387\n",
       "Low         4514937\n",
       "Name: income_profile, dtype: int64"
      ]
     },
     "execution_count": 32,
     "metadata": {},
     "output_type": "execute_result"
    }
   ],
   "source": [
    "high_activity_customers['income_profile'].value_counts()"
   ]
  },
  {
   "cell_type": "markdown",
   "id": "b3a96270",
   "metadata": {},
   "source": [
    "### Number of Dependants Profile"
   ]
  },
  {
   "cell_type": "code",
   "execution_count": 33,
   "id": "2060f49b",
   "metadata": {},
   "outputs": [
    {
     "name": "stderr",
     "output_type": "stream",
     "text": [
      "C:\\Users\\vaiva\\AppData\\Local\\Temp\\ipykernel_5768\\504046715.py:3: SettingWithCopyWarning: \n",
      "A value is trying to be set on a copy of a slice from a DataFrame.\n",
      "Try using .loc[row_indexer,col_indexer] = value instead\n",
      "\n",
      "See the caveats in the documentation: https://pandas.pydata.org/pandas-docs/stable/user_guide/indexing.html#returning-a-view-versus-a-copy\n",
      "  high_activity_customers.loc[high_activity_customers['n_dependants'] == 0, 'dependants_profile'] = 'Single Household'\n"
     ]
    }
   ],
   "source": [
    "# Creating a column 'dependants_profile'\n",
    "\n",
    "high_activity_customers.loc[high_activity_customers['n_dependants'] == 0, 'dependants_profile'] = 'Single Household'\n",
    "high_activity_customers.loc[high_activity_customers['n_dependants'] > 0, 'dependants_profile'] = 'Multiple People Household'  "
   ]
  },
  {
   "cell_type": "code",
   "execution_count": 34,
   "id": "fa3515c0",
   "metadata": {},
   "outputs": [
    {
     "data": {
      "text/plain": [
       "Multiple People Household    18309875\n",
       "Single Household              6105002\n",
       "Name: dependants_profile, dtype: int64"
      ]
     },
     "execution_count": 34,
     "metadata": {},
     "output_type": "execute_result"
    }
   ],
   "source": [
    "high_activity_customers['dependants_profile'].value_counts(dropna = False)"
   ]
  },
  {
   "cell_type": "markdown",
   "id": "e6b65c41",
   "metadata": {},
   "source": [
    "### Goods"
   ]
  },
  {
   "cell_type": "code",
   "execution_count": 35,
   "id": "133fdd2d",
   "metadata": {},
   "outputs": [
    {
     "name": "stderr",
     "output_type": "stream",
     "text": [
      "C:\\Users\\vaiva\\AppData\\Local\\Temp\\ipykernel_5768\\1665096088.py:3: SettingWithCopyWarning: \n",
      "A value is trying to be set on a copy of a slice from a DataFrame.\n",
      "Try using .loc[row_indexer,col_indexer] = value instead\n",
      "\n",
      "See the caveats in the documentation: https://pandas.pydata.org/pandas-docs/stable/user_guide/indexing.html#returning-a-view-versus-a-copy\n",
      "  high_activity_customers.loc[high_activity_customers['department_id'] == 1, 'department_name'] = 'frozen'\n"
     ]
    }
   ],
   "source": [
    "# Inserting a new column with department names\n",
    "\n",
    "high_activity_customers.loc[high_activity_customers['department_id'] == 1, 'department_name'] = 'frozen'\n",
    "high_activity_customers.loc[high_activity_customers['department_id'] == 2, 'department_name'] = 'other'\n",
    "high_activity_customers.loc[high_activity_customers['department_id'] == 3, 'department_name'] = 'bakery'\n",
    "high_activity_customers.loc[high_activity_customers['department_id'] == 4, 'department_name'] = 'produce'\n",
    "high_activity_customers.loc[high_activity_customers['department_id'] == 5, 'department_name'] = 'alcohol'\n",
    "high_activity_customers.loc[high_activity_customers['department_id'] == 6, 'department_name'] = 'international'\n",
    "high_activity_customers.loc[high_activity_customers['department_id'] == 7, 'department_name'] = 'beverages'\n",
    "high_activity_customers.loc[high_activity_customers['department_id'] == 8, 'department_name'] = 'pets'\n",
    "high_activity_customers.loc[high_activity_customers['department_id'] == 9, 'department_name'] = 'dry goods pasta'\n",
    "high_activity_customers.loc[high_activity_customers['department_id'] == 10, 'department_name'] = 'bulk'\n",
    "high_activity_customers.loc[high_activity_customers['department_id'] == 11, 'department_name'] = 'personal care'\n",
    "high_activity_customers.loc[high_activity_customers['department_id'] == 12, 'department_name'] = 'meat seafood'\n",
    "high_activity_customers.loc[high_activity_customers['department_id'] == 13, 'department_name'] = 'pantry'\n",
    "high_activity_customers.loc[high_activity_customers['department_id'] == 14, 'department_name'] = 'breakfast'\n",
    "high_activity_customers.loc[high_activity_customers['department_id'] == 15, 'department_name'] = 'canned goods'\n",
    "high_activity_customers.loc[high_activity_customers['department_id'] == 16, 'department_name'] = 'dairy eggs'\n",
    "high_activity_customers.loc[high_activity_customers['department_id'] == 17, 'department_name'] = 'household'\n",
    "high_activity_customers.loc[high_activity_customers['department_id'] == 18, 'department_name'] = 'babies'\n",
    "high_activity_customers.loc[high_activity_customers['department_id'] == 19, 'department_name'] = 'snacks'\n",
    "high_activity_customers.loc[high_activity_customers['department_id'] == 20, 'department_name'] = 'deli'\n",
    "high_activity_customers.loc[high_activity_customers['department_id'] == 21, 'department_name'] = 'missing'"
   ]
  },
  {
   "cell_type": "code",
   "execution_count": 36,
   "id": "a618d9a6",
   "metadata": {},
   "outputs": [
    {
     "data": {
      "image/png": "[encoded data removed]",
      "text/plain": [
       "<Figure size 700x600 with 1 Axes>"
      ]
     },
     "metadata": {},
     "output_type": "display_data"
    }
   ],
   "source": [
    "# Plotting a bar graph for department counts\n",
    "\n",
    "bar_dep = high_activity_customers['department_name'].value_counts(dropna = False).sort_values(ascending=True).plot.barh(color = ['#535B48'], title = 'Department Popularity', figsize=(7, 6))\n",
    "\n",
    "plt.xlabel('Counts')\n",
    "plt.ylabel('Departments')\n",
    "\n",
    "# Customize the X-axis labels to display full integers\n",
    "plt.gca().xaxis.set_major_formatter('{:.0f}'.format)\n",
    "\n",
    "# Set the number of major ticks on the X-axis\n",
    "plt.locator_params(axis='x', nbins=4)\n",
    "\n",
    "# Remove the right and top lines of the chart\n",
    "plt.gca().spines['right'].set_visible(False)\n",
    "plt.gca().spines['top'].set_visible(False)\n",
    "\n",
    "plt.tight_layout()  # Ensures all elements fit within the figure area\n",
    "\n",
    "plt.show()"
   ]
  },
  {
   "cell_type": "code",
   "execution_count": 37,
   "id": "0ea0e4d5",
   "metadata": {},
   "outputs": [],
   "source": [
    "# Export department counts bar chart\n",
    "bar_dep.figure.savefig(os.path.join(path, '04 Analysis', 'Visualizations', 'bar_dep_counts.png'))"
   ]
  },
  {
   "cell_type": "markdown",
   "id": "77694f4e",
   "metadata": {},
   "source": [
    "### Step 5 Cont - Customer Profile Visualizations"
   ]
  },
  {
   "cell_type": "code",
   "execution_count": 38,
   "id": "1ba240d1",
   "metadata": {},
   "outputs": [],
   "source": [
    "#Creating a color set for vizualizations\n",
    "\n",
    "colors = ['#907C7A','#DDDEBA', '#ADA8BE', '#A28497', '#727E63']"
   ]
  },
  {
   "cell_type": "code",
   "execution_count": 39,
   "id": "4d667234",
   "metadata": {},
   "outputs": [
    {
     "data": {
      "image/png": "[encoded data removed]",
      "text/plain": [
       "<Figure size 640x480 with 1 Axes>"
      ]
     },
     "metadata": {},
     "output_type": "display_data"
    }
   ],
   "source": [
    "# Age Profile pie chart\n",
    "\n",
    "pie_age = high_activity_customers['age_profile'].value_counts(dropna = False).plot.pie(autopct = \"%.2f%%\", colors = colors, ylabel='', title = 'Age Profiles')"
   ]
  },
  {
   "cell_type": "code",
   "execution_count": 40,
   "id": "eb5c047c",
   "metadata": {},
   "outputs": [],
   "source": [
    "# Export Age Profiles Pie chart\n",
    "pie_age.figure.savefig(os.path.join(path, '04 Analysis', 'Visualizations', 'pie_age_profiles.png'))"
   ]
  },
  {
   "cell_type": "code",
   "execution_count": 41,
   "id": "1e7b39b1",
   "metadata": {},
   "outputs": [
    {
     "data": {
      "image/png": "[encoded data removed]",
      "text/plain": [
       "<Figure size 640x480 with 1 Axes>"
      ]
     },
     "metadata": {},
     "output_type": "display_data"
    }
   ],
   "source": [
    "# Income Profile pie chart\n",
    "\n",
    "pie_inc = high_activity_customers['income_profile'].value_counts(dropna = False).plot.pie(autopct = \"%.2f%%\", colors = colors, ylabel='', title = 'Income Profiles')"
   ]
  },
  {
   "cell_type": "code",
   "execution_count": 42,
   "id": "a95453c4",
   "metadata": {},
   "outputs": [],
   "source": [
    "# Export Income Profiles Pie chart\n",
    "\n",
    "pie_inc.figure.savefig(os.path.join(path, '04 Analysis', 'Visualizations', 'pie_income_profiles.png'))"
   ]
  },
  {
   "cell_type": "code",
   "execution_count": 43,
   "id": "41db3973",
   "metadata": {},
   "outputs": [
    {
     "data": {
      "image/png": "[encoded data removed]",
      "text/plain": [
       "<Figure size 640x480 with 1 Axes>"
      ]
     },
     "metadata": {},
     "output_type": "display_data"
    }
   ],
   "source": [
    "# Income Profile pie chart\n",
    "\n",
    "pie_dependants = high_activity_customers['dependants_profile'].value_counts(dropna = False).plot.pie(autopct = \"%.2f%%\", colors = colors, ylabel='', title = 'Dependants Profiles')"
   ]
  },
  {
   "cell_type": "code",
   "execution_count": 44,
   "id": "4b2131df",
   "metadata": {},
   "outputs": [],
   "source": [
    "# Export Dependant Profiles Pie chart\n",
    "\n",
    "pie_dependants.figure.savefig(os.path.join(path, '04 Analysis', 'Visualizations', 'pie_dependants_profiles.png'))"
   ]
  },
  {
   "cell_type": "markdown",
   "id": "81f599a7",
   "metadata": {},
   "source": [
    "### Step 7 - Aggregations \n",
    "\n",
    "Aggregate the max, mean, and min variables on a customer-profile level for usage frequency and expenditure"
   ]
  },
  {
   "cell_type": "code",
   "execution_count": 45,
   "id": "5bf2dfd3",
   "metadata": {},
   "outputs": [],
   "source": [
    "# Age Profile Aggregations by frequency and spending\n",
    "\n",
    "grouped_age_profile = high_activity_customers.groupby('age_profile').agg(\n",
    "                        {'days_since_prior_order':['max', 'mean', 'min'], \n",
    "                         'prices': ['max', 'mean', 'min']})"
   ]
  },
  {
   "cell_type": "code",
   "execution_count": 46,
   "id": "e79a0153",
   "metadata": {},
   "outputs": [],
   "source": [
    "# Changing column names \n",
    "\n",
    "grouped_age_profile.columns = ['frequency_max', 'frequency_mean', 'frequency_min', 'spending_max', 'spending_mean', 'spending_min']"
   ]
  },
  {
   "cell_type": "code",
   "execution_count": 47,
   "id": "771c317c",
   "metadata": {},
   "outputs": [
    {
     "data": {
      "text/html": [
       "<div>\n",
       "<style scoped>\n",
       "    .dataframe tbody tr th:only-of-type {\n",
       "        vertical-align: middle;\n",
       "    }\n",
       "\n",
       "    .dataframe tbody tr th {\n",
       "        vertical-align: top;\n",
       "    }\n",
       "\n",
       "    .dataframe thead th {\n",
       "        text-align: right;\n",
       "    }\n",
       "</style>\n",
       "<table border=\"1\" class=\"dataframe\">\n",
       "  <thead>\n",
       "    <tr style=\"text-align: right;\">\n",
       "      <th></th>\n",
       "      <th>frequency_max</th>\n",
       "      <th>frequency_mean</th>\n",
       "      <th>frequency_min</th>\n",
       "      <th>spending_max</th>\n",
       "      <th>spending_mean</th>\n",
       "      <th>spending_min</th>\n",
       "    </tr>\n",
       "    <tr>\n",
       "      <th>age_profile</th>\n",
       "      <th></th>\n",
       "      <th></th>\n",
       "      <th></th>\n",
       "      <th></th>\n",
       "      <th></th>\n",
       "      <th></th>\n",
       "    </tr>\n",
       "  </thead>\n",
       "  <tbody>\n",
       "    <tr>\n",
       "      <th>Middle Aged</th>\n",
       "      <td>30.0</td>\n",
       "      <td>10.078820</td>\n",
       "      <td>0.0</td>\n",
       "      <td>25.0</td>\n",
       "      <td>7.789686</td>\n",
       "      <td>1.0</td>\n",
       "    </tr>\n",
       "    <tr>\n",
       "      <th>Senior</th>\n",
       "      <td>30.0</td>\n",
       "      <td>10.077181</td>\n",
       "      <td>0.0</td>\n",
       "      <td>25.0</td>\n",
       "      <td>7.795415</td>\n",
       "      <td>1.0</td>\n",
       "    </tr>\n",
       "    <tr>\n",
       "      <th>Young Adult</th>\n",
       "      <td>30.0</td>\n",
       "      <td>10.104539</td>\n",
       "      <td>0.0</td>\n",
       "      <td>25.0</td>\n",
       "      <td>7.784873</td>\n",
       "      <td>1.0</td>\n",
       "    </tr>\n",
       "  </tbody>\n",
       "</table>\n",
       "</div>"
      ],
      "text/plain": [
       "             frequency_max  frequency_mean  frequency_min  spending_max  \\\n",
       "age_profile                                                               \n",
       "Middle Aged           30.0       10.078820            0.0          25.0   \n",
       "Senior                30.0       10.077181            0.0          25.0   \n",
       "Young Adult           30.0       10.104539            0.0          25.0   \n",
       "\n",
       "             spending_mean  spending_min  \n",
       "age_profile                               \n",
       "Middle Aged       7.789686           1.0  \n",
       "Senior            7.795415           1.0  \n",
       "Young Adult       7.784873           1.0  "
      ]
     },
     "execution_count": 47,
     "metadata": {},
     "output_type": "execute_result"
    }
   ],
   "source": [
    "grouped_age_profile"
   ]
  },
  {
   "cell_type": "code",
   "execution_count": 48,
   "id": "3c97cc8c",
   "metadata": {},
   "outputs": [],
   "source": [
    "# Income Profile Aggregations\n",
    "\n",
    "grouped_income_profile = high_activity_customers.groupby('income_profile').agg(\n",
    "                        {'days_since_prior_order':['max', 'mean', 'min'], \n",
    "                         'prices': ['max', 'mean', 'min']})"
   ]
  },
  {
   "cell_type": "code",
   "execution_count": 49,
   "id": "4b541b9a",
   "metadata": {},
   "outputs": [],
   "source": [
    "# Changing column names\n",
    "\n",
    "grouped_income_profile.columns = ['frequency_max', 'frequency_mean', 'frequency_min', 'spending_max', 'spending_mean', 'spending_min']"
   ]
  },
  {
   "cell_type": "code",
   "execution_count": 50,
   "id": "f18d1c40",
   "metadata": {},
   "outputs": [
    {
     "data": {
      "text/html": [
       "<div>\n",
       "<style scoped>\n",
       "    .dataframe tbody tr th:only-of-type {\n",
       "        vertical-align: middle;\n",
       "    }\n",
       "\n",
       "    .dataframe tbody tr th {\n",
       "        vertical-align: top;\n",
       "    }\n",
       "\n",
       "    .dataframe thead th {\n",
       "        text-align: right;\n",
       "    }\n",
       "</style>\n",
       "<table border=\"1\" class=\"dataframe\">\n",
       "  <thead>\n",
       "    <tr style=\"text-align: right;\">\n",
       "      <th></th>\n",
       "      <th>frequency_max</th>\n",
       "      <th>frequency_mean</th>\n",
       "      <th>frequency_min</th>\n",
       "      <th>spending_max</th>\n",
       "      <th>spending_mean</th>\n",
       "      <th>spending_min</th>\n",
       "    </tr>\n",
       "    <tr>\n",
       "      <th>income_profile</th>\n",
       "      <th></th>\n",
       "      <th></th>\n",
       "      <th></th>\n",
       "      <th></th>\n",
       "      <th></th>\n",
       "      <th></th>\n",
       "    </tr>\n",
       "  </thead>\n",
       "  <tbody>\n",
       "    <tr>\n",
       "      <th>Average</th>\n",
       "      <td>30.0</td>\n",
       "      <td>10.042526</td>\n",
       "      <td>0.0</td>\n",
       "      <td>25.0</td>\n",
       "      <td>7.949023</td>\n",
       "      <td>1.0</td>\n",
       "    </tr>\n",
       "    <tr>\n",
       "      <th>High</th>\n",
       "      <td>30.0</td>\n",
       "      <td>10.039344</td>\n",
       "      <td>0.0</td>\n",
       "      <td>25.0</td>\n",
       "      <td>7.945728</td>\n",
       "      <td>1.0</td>\n",
       "    </tr>\n",
       "    <tr>\n",
       "      <th>Low</th>\n",
       "      <td>30.0</td>\n",
       "      <td>10.278584</td>\n",
       "      <td>0.0</td>\n",
       "      <td>25.0</td>\n",
       "      <td>7.093952</td>\n",
       "      <td>1.0</td>\n",
       "    </tr>\n",
       "  </tbody>\n",
       "</table>\n",
       "</div>"
      ],
      "text/plain": [
       "                frequency_max  frequency_mean  frequency_min  spending_max  \\\n",
       "income_profile                                                               \n",
       "Average                  30.0       10.042526            0.0          25.0   \n",
       "High                     30.0       10.039344            0.0          25.0   \n",
       "Low                      30.0       10.278584            0.0          25.0   \n",
       "\n",
       "                spending_mean  spending_min  \n",
       "income_profile                               \n",
       "Average              7.949023           1.0  \n",
       "High                 7.945728           1.0  \n",
       "Low                  7.093952           1.0  "
      ]
     },
     "execution_count": 50,
     "metadata": {},
     "output_type": "execute_result"
    }
   ],
   "source": [
    "grouped_income_profile"
   ]
  },
  {
   "cell_type": "code",
   "execution_count": 51,
   "id": "207945bd",
   "metadata": {},
   "outputs": [],
   "source": [
    "# Dependants Profile Aggregations\n",
    "\n",
    "grouped_dependants_profile = high_activity_customers.groupby('dependants_profile').agg(\n",
    "                        {'days_since_prior_order':['max', 'mean', 'min'], \n",
    "                         'prices': ['max', 'mean', 'min']})"
   ]
  },
  {
   "cell_type": "code",
   "execution_count": 52,
   "id": "34c72331",
   "metadata": {},
   "outputs": [],
   "source": [
    "# Changin column names\n",
    "\n",
    "grouped_dependants_profile.columns = ['frequency_max', 'frequency_mean', 'frequency_min', 'spending_max', 'spending_mean', 'spending_min']"
   ]
  },
  {
   "cell_type": "code",
   "execution_count": 53,
   "id": "520f5341",
   "metadata": {},
   "outputs": [
    {
     "data": {
      "text/html": [
       "<div>\n",
       "<style scoped>\n",
       "    .dataframe tbody tr th:only-of-type {\n",
       "        vertical-align: middle;\n",
       "    }\n",
       "\n",
       "    .dataframe tbody tr th {\n",
       "        vertical-align: top;\n",
       "    }\n",
       "\n",
       "    .dataframe thead th {\n",
       "        text-align: right;\n",
       "    }\n",
       "</style>\n",
       "<table border=\"1\" class=\"dataframe\">\n",
       "  <thead>\n",
       "    <tr style=\"text-align: right;\">\n",
       "      <th></th>\n",
       "      <th>frequency_max</th>\n",
       "      <th>frequency_mean</th>\n",
       "      <th>frequency_min</th>\n",
       "      <th>spending_max</th>\n",
       "      <th>spending_mean</th>\n",
       "      <th>spending_min</th>\n",
       "    </tr>\n",
       "    <tr>\n",
       "      <th>dependants_profile</th>\n",
       "      <th></th>\n",
       "      <th></th>\n",
       "      <th></th>\n",
       "      <th></th>\n",
       "      <th></th>\n",
       "      <th></th>\n",
       "    </tr>\n",
       "  </thead>\n",
       "  <tbody>\n",
       "    <tr>\n",
       "      <th>Multiple People Household</th>\n",
       "      <td>30.0</td>\n",
       "      <td>10.092462</td>\n",
       "      <td>0.0</td>\n",
       "      <td>25.0</td>\n",
       "      <td>7.789802</td>\n",
       "      <td>1.0</td>\n",
       "    </tr>\n",
       "    <tr>\n",
       "      <th>Single Household</th>\n",
       "      <td>30.0</td>\n",
       "      <td>10.063556</td>\n",
       "      <td>0.0</td>\n",
       "      <td>25.0</td>\n",
       "      <td>7.790272</td>\n",
       "      <td>1.0</td>\n",
       "    </tr>\n",
       "  </tbody>\n",
       "</table>\n",
       "</div>"
      ],
      "text/plain": [
       "                           frequency_max  frequency_mean  frequency_min  \\\n",
       "dependants_profile                                                        \n",
       "Multiple People Household           30.0       10.092462            0.0   \n",
       "Single Household                    30.0       10.063556            0.0   \n",
       "\n",
       "                           spending_max  spending_mean  spending_min  \n",
       "dependants_profile                                                    \n",
       "Multiple People Household          25.0       7.789802           1.0  \n",
       "Single Household                   25.0       7.790272           1.0  "
      ]
     },
     "execution_count": 53,
     "metadata": {},
     "output_type": "execute_result"
    }
   ],
   "source": [
    "grouped_dependants_profile"
   ]
  },
  {
   "cell_type": "markdown",
   "id": "01944cee",
   "metadata": {},
   "source": [
    "## 4. Exporting Dataframe\n"
   ]
  },
  {
   "cell_type": "code",
   "execution_count": 54,
   "id": "d08f693c",
   "metadata": {},
   "outputs": [],
   "source": [
    "# Exporting orders_products_all_final.pkl\n",
    "\n",
    "high_activity_customers.to_pickle(os.path.join(path, '02 Data','Prepared Data', 'orders_products_all_final.pkl'))"
   ]
  }
 ],
 "metadata": {
  "kernelspec": {
   "display_name": "Python 3 (ipykernel)",
   "language": "python",
   "name": "python3"
  },
  "language_info": {
   "codemirror_mode": {
    "name": "ipython",
    "version": 3
   },
   "file_extension": ".py",
   "mimetype": "text/x-python",
   "name": "python",
   "nbconvert_exporter": "python",
   "pygments_lexer": "ipython3",
   "version": "3.11.3"
  }
 },
 "nbformat": 4,
 "nbformat_minor": 5
}
